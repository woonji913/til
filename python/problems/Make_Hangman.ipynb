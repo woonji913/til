{
 "cells": [
  {
   "cell_type": "markdown",
   "metadata": {},
   "source": [
    "# 행맨 게임 만들기 "
   ]
  },
  {
   "cell_type": "markdown",
   "metadata": {},
   "source": [
    "## 답안 확인 하기\n",
    "\n",
    "> 행맨 게임을 위한 코드를 작성해봅시다. \n",
    ">\n",
    "> `isanswer(answer, letters)`는 정답 문자열(answer)과 추측 알파벳의 리스트(letters)를 받아서, True/False 결과를 반환합니다."
   ]
  },
  {
   "cell_type": "code",
   "execution_count": null,
   "metadata": {},
   "outputs": [],
   "source": [
    "# 여기에 코드를 작성하세요. # 내꺼. 반복문 길게.\n",
    "def isanswer(answer, letters):\n",
    "    for i in range(len(answer)):\n",
    "        if list(set(answer))[i] == letters[i]:\n",
    "            if len(set(answer)) == len(letters):\n",
    "                return True\n",
    "            else:\n",
    "                return False\n",
    "        else:\n",
    "            return False"
   ]
  },
  {
   "cell_type": "code",
   "execution_count": null,
   "metadata": {
    "scrolled": true
   },
   "outputs": [],
   "source": [
    "print(isanswer('apple', ['a', 'p', 'l'])) #=> False\n",
    "print(isanswer('apple', ['a', 'p', 'l', 'e'])) #=> True"
   ]
  },
  {
   "cell_type": "code",
   "execution_count": null,
   "metadata": {},
   "outputs": [],
   "source": [
    "# 내꺼. list comprehension\n",
    "def isanswer2(answer, letters):\n",
    "    return [True if len(set(answer)) == len(letters) else False \n",
    "                 if list(set(answer))[i] == letters[i] else False \n",
    "                 for i in range(len(answer)) ]"
   ]
  },
  {
   "cell_type": "code",
   "execution_count": null,
   "metadata": {},
   "outputs": [],
   "source": [
    "print(isanswer('apple', ['a', 'p', 'l'])) #=> False\n",
    "print(isanswer('apple', ['a', 'p', 'l', 'e'])) #=> True"
   ]
  },
  {
   "cell_type": "code",
   "execution_count": 4,
   "metadata": {},
   "outputs": [],
   "source": [
    "# 혜리씨\n",
    "def isanswer3(answer, letter):\n",
    "    return set(answer) == set(letter)"
   ]
  },
  {
   "cell_type": "code",
   "execution_count": 5,
   "metadata": {},
   "outputs": [
    {
     "name": "stdout",
     "output_type": "stream",
     "text": [
      "False\n",
      "True\n"
     ]
    }
   ],
   "source": [
    "print(isanswer3('apple', ['a', 'p', 'l'])) #=> False\n",
    "print(isanswer3('apple', ['a', 'p', 'l', 'e'])) #=> True"
   ]
  },
  {
   "cell_type": "code",
   "execution_count": 14,
   "metadata": {},
   "outputs": [],
   "source": [
    "# 강사님\n",
    "def isanswer4(answer, letter):\n",
    "    # 갯수가 있으면 실패(False), 없으면 성공(True)\n",
    "    return not (set(answer) - set(letter))"
   ]
  },
  {
   "cell_type": "code",
   "execution_count": 15,
   "metadata": {},
   "outputs": [
    {
     "name": "stdout",
     "output_type": "stream",
     "text": [
      "False\n",
      "True\n"
     ]
    }
   ],
   "source": [
    "print(isanswer3('apple', ['a', 'p', 'l'])) #=> False\n",
    "print(isanswer3('apple', ['a', 'p', 'l', 'e'])) #=> True"
   ]
  },
  {
   "cell_type": "markdown",
   "metadata": {},
   "source": [
    "## 현재 상태 출력하기\n",
    "\n",
    "> 행맨 게임을 위한 코드를 작성해봅시다. \n",
    ">\n",
    "> `status(answer, letters)`는 정답 문자열(answer)과 추측 알파벳의 리스트(letters)를 받아서, 현재 결과를 반환합니다."
   ]
  },
  {
   "cell_type": "code",
   "execution_count": null,
   "metadata": {},
   "outputs": [],
   "source": [
    "# replace\n",
    "def status(answer, letters):\n",
    "    print('_ '*len(answer))\n",
    "    f_answer = []\n",
    "    for i in range(len(answer)):\n",
    "        if answer[i] in letters:\n",
    "            f_answer.append(answer[i])\n",
    "            result = f_answer\n",
    "        else:\n",
    "            f_answer.append('_')\n",
    "            result = f_answer\n",
    "    return ''.join(result)"
   ]
  },
  {
   "cell_type": "code",
   "execution_count": null,
   "metadata": {},
   "outputs": [],
   "source": [
    "status('apple', ['a', 'p', 'l']) #=> 'appl_'"
   ]
  },
  {
   "cell_type": "code",
   "execution_count": 6,
   "metadata": {},
   "outputs": [],
   "source": [
    "# 상근오빠\n",
    "def status(answer, letters):\n",
    "    corrects = set(answer) & set(letters)\n",
    "    return \"\".join([i  if i in corrects else \"_\" for i in answer])"
   ]
  },
  {
   "cell_type": "code",
   "execution_count": 7,
   "metadata": {},
   "outputs": [
    {
     "data": {
      "text/plain": [
       "'appl_'"
      ]
     },
     "execution_count": 7,
     "metadata": {},
     "output_type": "execute_result"
    }
   ],
   "source": [
    "status('apple', ['a', 'p', 'l']) #=> 'appl_'"
   ]
  },
  {
   "cell_type": "markdown",
   "metadata": {},
   "source": [
    "## 행맨 로직 만들기 - 자유코딩!\n",
    "\n",
    "> 위의 코드를 활용하여 `hangman(answer)`를 만들어봅시다!\n",
    ">\n",
    "> 사용자가 답을 맞출 때까지 진행하며, 8번내로 정답을 맞춰야 합니다.\n"
   ]
  },
  {
   "cell_type": "code",
   "execution_count": 19,
   "metadata": {},
   "outputs": [],
   "source": [
    "def hangman(answer):\n",
    "    f_answer = []\n",
    "    for n in range(0, 8):\n",
    "        letters = input('소문자 알파벳을 입력하세요.: ')\n",
    "        if n <= 7:\n",
    "            for i in range(len(answer)):\n",
    "                if answer[i] in letters:\n",
    "                    f_answer.append(answer[i])\n",
    "                    result = f_answer\n",
    "                    print(''.join(result))\n",
    "                    if len(set(answer))[i] == len(set(f_answer)):\n",
    "                        return ''.join(result)\n",
    "                    else:\n",
    "                        n += 1\n",
    "                else:\n",
    "                    f_answer.append('_')\n",
    "                    result = f_answer\n",
    "                    print(''.join(result))\n",
    "                    n += 1\n",
    "        else:\n",
    "            return False\n",
    "            \n",
    "            \n",
    "    return ''.join(result)"
   ]
  },
  {
   "cell_type": "code",
   "execution_count": 20,
   "metadata": {},
   "outputs": [
    {
     "name": "stdout",
     "output_type": "stream",
     "text": [
      "소문자 알파벳을 입력하세요.: a\n",
      "a\n"
     ]
    },
    {
     "ename": "TypeError",
     "evalue": "'int' object is not subscriptable",
     "output_type": "error",
     "traceback": [
      "\u001b[1;31m---------------------------------------------------------------------------\u001b[0m",
      "\u001b[1;31mTypeError\u001b[0m                                 Traceback (most recent call last)",
      "\u001b[1;32m<ipython-input-20-f756f0004a58>\u001b[0m in \u001b[0;36m<module>\u001b[1;34m\u001b[0m\n\u001b[1;32m----> 1\u001b[1;33m \u001b[0mhangman\u001b[0m\u001b[1;33m(\u001b[0m\u001b[1;34m'apple'\u001b[0m\u001b[1;33m)\u001b[0m\u001b[1;33m\u001b[0m\u001b[1;33m\u001b[0m\u001b[0m\n\u001b[0m",
      "\u001b[1;32m<ipython-input-19-b7026a6b8929>\u001b[0m in \u001b[0;36mhangman\u001b[1;34m(answer)\u001b[0m\n\u001b[0;32m      9\u001b[0m                     \u001b[0mresult\u001b[0m \u001b[1;33m=\u001b[0m \u001b[0mf_answer\u001b[0m\u001b[1;33m\u001b[0m\u001b[1;33m\u001b[0m\u001b[0m\n\u001b[0;32m     10\u001b[0m                     \u001b[0mprint\u001b[0m\u001b[1;33m(\u001b[0m\u001b[1;34m''\u001b[0m\u001b[1;33m.\u001b[0m\u001b[0mjoin\u001b[0m\u001b[1;33m(\u001b[0m\u001b[0mresult\u001b[0m\u001b[1;33m)\u001b[0m\u001b[1;33m)\u001b[0m\u001b[1;33m\u001b[0m\u001b[1;33m\u001b[0m\u001b[0m\n\u001b[1;32m---> 11\u001b[1;33m                     \u001b[1;32mif\u001b[0m \u001b[0mlen\u001b[0m\u001b[1;33m(\u001b[0m\u001b[0mset\u001b[0m\u001b[1;33m(\u001b[0m\u001b[0manswer\u001b[0m\u001b[1;33m)\u001b[0m\u001b[1;33m)\u001b[0m\u001b[1;33m[\u001b[0m\u001b[0mi\u001b[0m\u001b[1;33m]\u001b[0m \u001b[1;33m==\u001b[0m \u001b[0mlen\u001b[0m\u001b[1;33m(\u001b[0m\u001b[0mset\u001b[0m\u001b[1;33m(\u001b[0m\u001b[0mf_answer\u001b[0m\u001b[1;33m)\u001b[0m\u001b[1;33m)\u001b[0m\u001b[1;33m:\u001b[0m\u001b[1;33m\u001b[0m\u001b[1;33m\u001b[0m\u001b[0m\n\u001b[0m\u001b[0;32m     12\u001b[0m                         \u001b[1;32mreturn\u001b[0m \u001b[1;34m''\u001b[0m\u001b[1;33m.\u001b[0m\u001b[0mjoin\u001b[0m\u001b[1;33m(\u001b[0m\u001b[0mresult\u001b[0m\u001b[1;33m)\u001b[0m\u001b[1;33m\u001b[0m\u001b[1;33m\u001b[0m\u001b[0m\n\u001b[0;32m     13\u001b[0m                     \u001b[1;32melse\u001b[0m\u001b[1;33m:\u001b[0m\u001b[1;33m\u001b[0m\u001b[1;33m\u001b[0m\u001b[0m\n",
      "\u001b[1;31mTypeError\u001b[0m: 'int' object is not subscriptable"
     ]
    }
   ],
   "source": [
    "hangman('apple')"
   ]
  },
  {
   "cell_type": "code",
   "execution_count": 10,
   "metadata": {},
   "outputs": [],
   "source": [
    "# 연주씨\n",
    "def hangman(answer):\n",
    "    while True:\n",
    "        letters = input('알파벳을 입력하세요 : ')\n",
    "        if len(letters) <= 8:\n",
    "            n = 8\n",
    "            while n>0:\n",
    "                for alp in answer:\n",
    "                    if alp not in letters:\n",
    "                        answer = answer.replace(alp, '_')\n",
    "                        n = n-1\n",
    "                    else:\n",
    "                        n = n-1\n",
    "            if set(answer) - set(letters) == set(): \n",
    "                print('정답입니다')\n",
    "            else:\n",
    "                print('틀렸습니다')\n",
    "            break\n",
    "        print(\"너무 깁니다\")            \n",
    "    return answer"
   ]
  },
  {
   "cell_type": "code",
   "execution_count": 11,
   "metadata": {},
   "outputs": [
    {
     "name": "stdout",
     "output_type": "stream",
     "text": [
      "알파벳을 입력하세요 : answer\n",
      "틀렸습니다\n"
     ]
    },
    {
     "data": {
      "text/plain": [
       "'a___e'"
      ]
     },
     "execution_count": 11,
     "metadata": {},
     "output_type": "execute_result"
    }
   ],
   "source": [
    "hangman('apple')"
   ]
  },
  {
   "cell_type": "code",
   "execution_count": 16,
   "metadata": {},
   "outputs": [],
   "source": [
    "# 혜리씨\n",
    "def hangman(answer):\n",
    "    i = 0\n",
    "    man ='(@^_^@)ㄱ'\n",
    "    user = ['_ ' for x in range(len(answer))]\n",
    "    print(''.join(user), 'start!!')\n",
    "    while i < 8:\n",
    "        c = input()\n",
    "        if c in answer:\n",
    "            for j in range(len(answer)):\n",
    "                if answer[j] == c:\n",
    "                    user[j] = c\n",
    "            print(''.join(user), 7-i, 'turn left')\n",
    "        else:\n",
    "            for k in range(i+1):\n",
    "                print(man[k],end=\"\")\n",
    "            print('\\n',7-i, 'turn left')\n",
    "        i += 1\n",
    "        if answer == ''.join(user):\n",
    "            return 'you win!!'\n",
    "    else:\n",
    "        return '(@x_x@)ㄱ -------- Your man is dead'"
   ]
  },
  {
   "cell_type": "code",
   "execution_count": 18,
   "metadata": {},
   "outputs": [
    {
     "name": "stdout",
     "output_type": "stream",
     "text": [
      "_ _ _ _ _  start!!\n",
      "a\n",
      "a_ _ _ _  7 turn left\n",
      "o\n",
      "(@\n",
      " 6 turn left\n",
      "i\n",
      "(@^\n",
      " 5 turn left\n",
      "u\n",
      "(@^_\n",
      " 4 turn left\n",
      "u\n",
      "(@^_^\n",
      " 3 turn left\n",
      "p\n",
      "app_ _  2 turn left\n",
      "e\n",
      "app_ e 1 turn left\n",
      "q\n",
      "(@^_^@)ㄱ\n",
      " 0 turn left\n"
     ]
    },
    {
     "data": {
      "text/plain": [
       "'(@x_x@)ㄱ -------- Your man is dead'"
      ]
     },
     "execution_count": 18,
     "metadata": {},
     "output_type": "execute_result"
    }
   ],
   "source": [
    "hangman('apple')"
   ]
  },
  {
   "cell_type": "code",
   "execution_count": null,
   "metadata": {},
   "outputs": [],
   "source": [
    "def hangman(answer):\n",
    "    count = 0 #몇번째인지 카운트하는거임\n",
    "   active = 8 #몇번까지하면 종료인지 설정하는거\n",
    "   answer = answer.lower()\n",
    "   answersheet = [] #여태까지 선택한 답안들의모음\n",
    "   alphabetlist = 'abcdefghijklmnopqrstuwxyz' #남은 선택지리스트입니다.\n",
    "   while count < active and not isanswer(answer,answersheet): # 답을 아직 못맞춰거나 제한횟수전일때까지만 while loop\n",
    "       print(\"남은리스트: \", \",\".join(alphabetlist))       #남은 선택지리스트를 보여줌\n",
    "       selection = input(\"알파벳뭐넣을거임?\")   #유저선택을 받아옴\n",
    "       if selection not in alphabetlist:                  #이미선택했는지 검증\n",
    "           print(\"영어소문자하나만 넣어야하고 이미넣었던건안되\")\n",
    "           print(f\"카운트는 여전히 {count}야 \")\n",
    "           continue\n",
    "       answersheet.append(selection)              #아직 선택안됐으면 앤서쉬트에 넣음\n",
    "       alphabetlist = alphabetlist.replace(selection, \"\")          #선택한알파벳제거\n",
    "       print(f\"현재 단어상황 >> {status(answer, answersheet)} <<\")    #현재까지완성된단어보여줌\n",
    "       count +=1              #카운트+1\n",
    "       print(f\"현재까지 {count}번째 시도하였습니다.\")\n",
    "       print(\"-----------------------\")\n",
    "   if isanswer(answer,answersheet):\n",
    "       print(status(answer,answersheet))\n",
    "       print(\"정답축하해요\")\n",
    "   else:\n",
    "       print(\"다음기회에/..\")\n",
    "def status(answer, letters):\n",
    "  corrects = set(answer) & set(letters)\n",
    "  return \"\".join([i  if i in corrects else \"_\" for i in answer])\n"
   ]
  }
 ],
 "metadata": {
  "kernelspec": {
   "display_name": "Python 3",
   "language": "python",
   "name": "python3"
  },
  "language_info": {
   "codemirror_mode": {
    "name": "ipython",
    "version": 3
   },
   "file_extension": ".py",
   "mimetype": "text/x-python",
   "name": "python",
   "nbconvert_exporter": "python",
   "pygments_lexer": "ipython3",
   "version": "3.6.7"
  },
  "latex_envs": {
   "LaTeX_envs_menu_present": true,
   "autoclose": false,
   "autocomplete": true,
   "bibliofile": "biblio.bib",
   "cite_by": "apalike",
   "current_citInitial": 1,
   "eqLabelWithNumbers": true,
   "eqNumInitial": 1,
   "hotkeys": {
    "equation": "Ctrl-E",
    "itemize": "Ctrl-I"
   },
   "labels_anchors": false,
   "latex_user_defs": false,
   "report_style_numbering": false,
   "user_envs_cfg": false
  },
  "toc": {
   "base_numbering": 1,
   "nav_menu": {},
   "number_sections": true,
   "sideBar": true,
   "skip_h1_title": false,
   "title_cell": "Table of Contents",
   "title_sidebar": "Contents",
   "toc_cell": false,
   "toc_position": {},
   "toc_section_display": true,
   "toc_window_display": false
  }
 },
 "nbformat": 4,
 "nbformat_minor": 2
}

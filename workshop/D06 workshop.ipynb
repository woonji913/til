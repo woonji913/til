{
 "cells": [
  {
   "cell_type": "markdown",
   "metadata": {},
   "source": [
    "## 이분법\n",
    "\n",
    "양의 정수 x를 입력 받아 제곱근의 근사값의 결과를 반환하는 함수를 작성하세요"
   ]
  },
  {
   "cell_type": "code",
   "execution_count": 3,
   "metadata": {},
   "outputs": [],
   "source": [
    "def my_sqrt(n):\n",
    "    # (n-1)**2 < n < n**2:\n",
    "    my_max = n\n",
    "    my_min = n/2\n",
    "    while (my_max - my_min) > 0.000001:\n",
    "        mid = (my_max + my_min)/2\n",
    "        if mid**2 > n:\n",
    "            my_max = mid\n",
    "        else:\n",
    "            my_min = mid\n",
    "    return mid"
   ]
  },
  {
   "cell_type": "code",
   "execution_count": 4,
   "metadata": {},
   "outputs": [
    {
     "data": {
      "text/plain": [
       "1.4142141342163086"
      ]
     },
     "execution_count": 4,
     "metadata": {},
     "output_type": "execute_result"
    }
   ],
   "source": [
    "my_sqrt(2)"
   ]
  },
  {
   "cell_type": "code",
   "execution_count": 5,
   "metadata": {},
   "outputs": [
    {
     "data": {
      "text/plain": [
       "1.732051134109497"
      ]
     },
     "execution_count": 5,
     "metadata": {},
     "output_type": "execute_result"
    }
   ],
   "source": [
    "my_sqrt(3)"
   ]
  },
  {
   "cell_type": "code",
   "execution_count": 6,
   "metadata": {},
   "outputs": [],
   "source": [
    "def my_sqrt2(num):\n",
    "    a = 0\n",
    "    b = 2*num\n",
    "    # 시작할때 0 < num < b로 시작\n",
    "    for i in range(50):  # 50번 근사\n",
    "        c = ((a+b)/2)  # (a+b)/2를 c에 저장\n",
    "        if c**2 > num:\n",
    "            b = c     # c가 num보다 크면 (오른쪽이면) b에 c값 넣기\n",
    "        else:\n",
    "            a = c     # c가 num보다 작으면 a에 c값 넣기\n",
    "    return (a+b) / 2  # 마지막 출력때 두값의 평균내서 넣기"
   ]
  },
  {
   "cell_type": "code",
   "execution_count": 7,
   "metadata": {},
   "outputs": [
    {
     "data": {
      "text/plain": [
       "1.414213562373094"
      ]
     },
     "execution_count": 7,
     "metadata": {},
     "output_type": "execute_result"
    }
   ],
   "source": [
    "my_sqrt2(2)"
   ]
  },
  {
   "cell_type": "code",
   "execution_count": 8,
   "metadata": {},
   "outputs": [
    {
     "data": {
      "text/plain": [
       "1.7320508075688759"
      ]
     },
     "execution_count": 8,
     "metadata": {},
     "output_type": "execute_result"
    }
   ],
   "source": [
    "my_sqrt2(3)"
   ]
  }
 ],
 "metadata": {
  "kernelspec": {
   "display_name": "Python 3",
   "language": "python",
   "name": "python3"
  },
  "language_info": {
   "codemirror_mode": {
    "name": "ipython",
    "version": 3
   },
   "file_extension": ".py",
   "mimetype": "text/x-python",
   "name": "python",
   "nbconvert_exporter": "python",
   "pygments_lexer": "ipython3",
   "version": "3.6.7"
  }
 },
 "nbformat": 4,
 "nbformat_minor": 2
}

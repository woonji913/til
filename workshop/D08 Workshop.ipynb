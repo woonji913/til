{
 "cells": [
  {
   "cell_type": "code",
   "execution_count": null,
   "metadata": {},
   "outputs": [],
   "source": [
    "# Flask에서 Dictionary 자료형을 이용하여 다음 조건을 만족하는 '나만의 영어 단어장' 페이지를 만들어보세요.\n",
    "\n",
    "from flask import Flask, render_template\n",
    "app = Flask(__name__)\n",
    "\n",
    "@app.route('/')\n",
    "def index():\n",
    "    return '안녕하세요!'\n",
    "\n",
    "@app.route('/html')\n",
    "def html():\n",
    "    return render_template('chicken.html')\n",
    "\n",
    "@app.route('/html_name/<string:name>')\n",
    "def html_name(name):\n",
    "    return render_template('chicken.html', your_name = name)\n",
    "\n",
    "@app.route('/dictionary/<string:word>')\n",
    "def dictionary(word):\n",
    "    word_dict = {\"apple\" : \"사과\", \"banana\" : \"바나나\"}\n",
    "    return render_template('word.html', word = word, word_dict = word_dict)\n",
    "\n",
    "\n",
    "if __name__ == '__main__':\n",
    "    app.run()\n",
    "\n",
    "# chicken.html 페이지를 띄워주세요."
   ]
  }
 ],
 "metadata": {
  "kernelspec": {
   "display_name": "Python 3",
   "language": "python",
   "name": "python3"
  },
  "language_info": {
   "codemirror_mode": {
    "name": "ipython",
    "version": 3
   },
   "file_extension": ".py",
   "mimetype": "text/x-python",
   "name": "python",
   "nbconvert_exporter": "python",
   "pygments_lexer": "ipython3",
   "version": "3.6.7"
  }
 },
 "nbformat": 4,
 "nbformat_minor": 2
}
